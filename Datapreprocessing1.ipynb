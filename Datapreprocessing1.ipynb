{
 "cells": [
  {
   "cell_type": "code",
   "execution_count": 1,
   "id": "initial_id",
   "metadata": {
    "ExecuteTime": {
     "end_time": "2024-10-20T04:47:20.151532Z",
     "start_time": "2024-10-20T04:47:19.003784Z"
    },
    "collapsed": true,
    "jupyter": {
     "outputs_hidden": true
    }
   },
   "outputs": [],
   "source": [
    "import pandas as pd\n",
    "import email\n",
    "from email import policy\n",
    "from email.parser import BytesParser\n",
    "import os\n",
    "import pandas as pd\n",
    "import threading\n",
    "import queue\n",
    "from nltk.stem import WordNetLemmatizer\n",
    "import nltk\n",
    "import re"
   ]
  },
  {
   "cell_type": "code",
   "execution_count": 2,
   "id": "8a4db8a097e02749",
   "metadata": {
    "ExecuteTime": {
     "end_time": "2024-10-20T04:47:22.649286Z",
     "start_time": "2024-10-20T04:47:22.306239Z"
    },
    "collapsed": false,
    "jupyter": {
     "outputs_hidden": false
    }
   },
   "outputs": [
    {
     "name": "stderr",
     "output_type": "stream",
     "text": [
      "[nltk_data] Downloading package wordnet to\n",
      "[nltk_data]     C:\\Users\\fan\\AppData\\Roaming\\nltk_data...\n",
      "[nltk_data]   Package wordnet is already up-to-date!\n",
      "[nltk_data] Downloading package omw-1.4 to\n",
      "[nltk_data]     C:\\Users\\fan\\AppData\\Roaming\\nltk_data...\n",
      "[nltk_data]   Package omw-1.4 is already up-to-date!\n"
     ]
    },
    {
     "data": {
      "text/plain": [
       "True"
      ]
     },
     "execution_count": 2,
     "metadata": {},
     "output_type": "execute_result"
    }
   ],
   "source": [
    "nltk.download('wordnet')\n",
    "nltk.download('omw-1.4')"
   ]
  },
  {
   "cell_type": "code",
   "execution_count": 9,
   "id": "f4913ac3ed89c9d",
   "metadata": {
    "ExecuteTime": {
     "end_time": "2024-10-20T04:48:44.559858Z",
     "start_time": "2024-10-20T04:48:44.556461Z"
    },
    "collapsed": false,
    "jupyter": {
     "outputs_hidden": false
    }
   },
   "outputs": [],
   "source": [
    "def clean_text(text):\n",
    "    # Use regular expressions to remove escape characters\n",
    "    text = re.sub(r'\\\\[a-zA-Z]', '', text)\n",
    "    # Remove extra spaces and line breaks\n",
    "    text = text.strip()\n",
    "    text = re.sub(r'\\s+', ' ', text)  # Replace extra whitespace with a single space\n",
    "\n",
    "    # Lemmatization\n",
    "    lemmatizer = WordNetLemmatizer()\n",
    "    words = text.split()\n",
    "    lemmatized_words = [lemmatizer.lemmatize(word) for word in words]\n",
    "    \n",
    "    # Returns the lemmatized text\n",
    "    return ' '.join(lemmatized_words).replace('\\n', ' ')\n"
   ]
  },
  {
   "cell_type": "code",
   "execution_count": 10,
   "id": "5846bcb2250bbd1b",
   "metadata": {
    "ExecuteTime": {
     "end_time": "2024-10-20T04:48:44.713081Z",
     "start_time": "2024-10-20T04:48:44.706898Z"
    },
    "collapsed": false,
    "jupyter": {
     "outputs_hidden": false
    }
   },
   "outputs": [],
   "source": [
    "def parse_email_from_file(file_path):\n",
    "    \"\"\"\n",
    "    Parse the subject, sender, recipients, and body of an email，Enter the path to the mail file.\n",
    "    Parameter:\n",
    "    file_path (str): Path to the mail file\n",
    "\n",
    "    Return:\n",
    "    list: Contains the cleaned list of subject, sender, to, and body\n",
    "    \"\"\"\n",
    "    \n",
    "    # Read mail file contents\n",
    "    with open(file_path, 'rb') as f:\n",
    "        email_content = f.read()\n",
    "\n",
    "    # Parsing mail using BytesParser\n",
    "    msg = BytesParser(policy=policy.default).parsebytes(email_content)\n",
    "\n",
    "    # Get basic information about emails\n",
    "    subject = msg['Subject'] if 'Subject' in msg else '(No Subject)'\n",
    "    sender = msg['From'] if 'From' in msg else '(No Sender)'\n",
    "    to = msg['To'] if 'To' in msg else '(No Recipients)'\n",
    "\n",
    "    # Parsing the email body\n",
    "    body = \"\"\n",
    "    if msg.is_multipart():\n",
    "        # Handling multipart messages\n",
    "        for part in msg.iter_parts():\n",
    "            if part.get_content_type() == 'text/plain':\n",
    "                body = part.get_payload(decode=True).decode()\n",
    "                break\n",
    "    else:\n",
    "        # Handling single-part messages\n",
    "        body = msg.get_payload(decode=True).decode()\n",
    "\n",
    "    # Clean subject, sender, to, body\n",
    "    subject_cleaned = clean_text(subject)\n",
    "    sender_cleaned = clean_text(sender)\n",
    "    to_cleaned = clean_text(to)\n",
    "    body_cleaned = clean_text(body)\n",
    "\n",
    "    # Return the parsing result\n",
    "    return [subject_cleaned, sender_cleaned, to_cleaned, body_cleaned]"
   ]
  },
  {
   "cell_type": "code",
   "execution_count": 3,
   "id": "fe4fdc4ec15e22c2",
   "metadata": {
    "ExecuteTime": {
     "end_time": "2024-10-20T04:47:32.277595Z",
     "start_time": "2024-10-20T04:47:32.274056Z"
    },
    "collapsed": false,
    "jupyter": {
     "outputs_hidden": false
    }
   },
   "outputs": [],
   "source": [
    "mail_dir_first = os.listdir('./maildir')\n",
    "mail_dir_seconds = []"
   ]
  },
  {
   "cell_type": "code",
   "execution_count": 4,
   "id": "de88ec31c64d4bc3",
   "metadata": {
    "ExecuteTime": {
     "end_time": "2024-10-20T04:47:33.236359Z",
     "start_time": "2024-10-20T04:47:33.219258Z"
    },
    "collapsed": false,
    "jupyter": {
     "outputs_hidden": false
    }
   },
   "outputs": [],
   "source": [
    "for item in mail_dir_first:\n",
    "    second = os.listdir(os.path.join('maildir', item))\n",
    "    second_abs_dir = [os.path.join('maildir', item, x) for x in second]\n",
    "    mail_dir_seconds += second_abs_dir"
   ]
  },
  {
   "cell_type": "code",
   "execution_count": 5,
   "id": "5354605078853689",
   "metadata": {
    "ExecuteTime": {
     "end_time": "2024-10-20T04:47:59.679461Z",
     "start_time": "2024-10-20T04:47:58.563914Z"
    },
    "collapsed": false,
    "jupyter": {
     "outputs_hidden": false
    }
   },
   "outputs": [],
   "source": [
    "files = []\n",
    "for item in mail_dir_seconds:\n",
    "    try:\n",
    "        email_files = os.listdir(item)\n",
    "        for email in email_files:\n",
    "            files.append(os.path.join(item, email))\n",
    "    except Exception:\n",
    "        pass"
   ]
  },
  {
   "cell_type": "code",
   "execution_count": 18,
   "id": "1cac5fd88bc791bf",
   "metadata": {
    "ExecuteTime": {
     "end_time": "2024-10-20T05:08:04.557706Z",
     "start_time": "2024-10-20T05:08:04.553930Z"
    },
    "collapsed": false,
    "jupyter": {
     "outputs_hidden": false
    }
   },
   "outputs": [
    {
     "data": {
      "text/plain": [
       "491331"
      ]
     },
     "execution_count": 18,
     "metadata": {},
     "output_type": "execute_result"
    }
   ],
   "source": [
    "len(files)"
   ]
  },
  {
   "cell_type": "code",
   "execution_count": 19,
   "id": "d87c212cd85b69df",
   "metadata": {
    "ExecuteTime": {
     "end_time": "2024-10-20T05:45:47.263881Z",
     "start_time": "2024-10-20T05:08:05.485116Z"
    },
    "collapsed": false,
    "jupyter": {
     "outputs_hidden": false
    }
   },
   "outputs": [
    {
     "name": "stderr",
     "output_type": "stream",
     "text": [
      "100%|██████████| 491331/491331 [37:33<00:00, 218.00it/s] \n"
     ]
    },
    {
     "name": "stdout",
     "output_type": "stream",
     "text": [
      "Successfully processed 490845 files.\n"
     ]
    }
   ],
   "source": [
    "import tqdm\n",
    "import logging\n",
    "from concurrent.futures import ThreadPoolExecutor, as_completed\n",
    "\n",
    "# Configuring Logging\n",
    "logging.basicConfig(filename='email_parsing_errors.log', \n",
    "                    level=logging.ERROR, \n",
    "                    format='%(asctime)s %(levelname)s: %(message)s')\n",
    "\n",
    "# Multithreaded function processes each file\n",
    "def process_file(item):\n",
    "    try:\n",
    "        email_ = parse_email_from_file(item)\n",
    "        return email_\n",
    "    except Exception as e:\n",
    "        # Record error information to a log file\n",
    "        logging.error(f\"Error processing file {item}: {str(e)}\")\n",
    "        return None\n",
    "\n",
    "# Multithreading\n",
    "def process_emails_concurrently(files, max_workers=4):\n",
    "    result = []\n",
    "    with ThreadPoolExecutor(max_workers=max_workers) as executor:\n",
    "        # Submit all tasks\n",
    "        futures = {executor.submit(process_file, file): file for file in files}\n",
    "        # Using tqdm to display progress\n",
    "        for future in tqdm.tqdm(as_completed(futures), total=len(futures)):\n",
    "            email_ = future.result()\n",
    "            if email_ is not None:\n",
    "                result.append(email_)\n",
    "    return result\n",
    "\n",
    "# Example call\n",
    "result = process_emails_concurrently(files, max_workers=4)\n",
    "# Output\n",
    "print(f\"Successfully processed {len(result)} files.\")"
   ]
  },
  {
   "cell_type": "code",
   "execution_count": 20,
   "id": "885bcbd25af81f7",
   "metadata": {
    "ExecuteTime": {
     "end_time": "2024-10-20T05:45:55.029405Z",
     "start_time": "2024-10-20T05:45:55.024312Z"
    },
    "collapsed": false,
    "jupyter": {
     "outputs_hidden": false
    }
   },
   "outputs": [
    {
     "data": {
      "text/plain": [
       "['Re: Newsgroups',\n",
       " 'billc@greenbuilder.com',\n",
       " 'strawbale@crest.org',\n",
       " \">What other cool newsgroups are available for u alternative thinkers? >Rammed Earth, Cob, etc? > We have a list of our favorite at http://www.greenbuilder.com/general/discussion.html (and we're open to more suggestions) BC Bill Christensen billc@greenbuilder.com Green Homes For Sale/Lease: http://www.greenbuilder.com/realestate/ Green Building Pro Directory: http://www.greenbuilder.com/directory/ Sustainable Bldg Calendar: http://www.greenbuilder.com/calendar/ Sustainable Bldg Bookstore: http://www.greenbuilder.com/bookstore\"]"
      ]
     },
     "execution_count": 20,
     "metadata": {},
     "output_type": "execute_result"
    }
   ],
   "source": [
    "result[0]"
   ]
  },
  {
   "cell_type": "code",
   "execution_count": 22,
   "id": "9d423deb0e232dda",
   "metadata": {
    "ExecuteTime": {
     "end_time": "2024-10-20T05:48:34.202820Z",
     "start_time": "2024-10-20T05:47:00.780438Z"
    },
    "collapsed": false,
    "jupyter": {
     "outputs_hidden": false
    }
   },
   "outputs": [],
   "source": [
    "df = pd.DataFrame(result, columns=['subject', 'sender', 'recipients', 'body'])\n",
    "df.to_csv('./emails.csv', index=False)"
   ]
  },
  {
   "cell_type": "code",
   "execution_count": 17,
   "id": "7032437b2a79f65a",
   "metadata": {
    "ExecuteTime": {
     "end_time": "2024-10-20T05:06:55.525261Z",
     "start_time": "2024-10-20T05:06:55.517211Z"
    },
    "collapsed": false,
    "jupyter": {
     "outputs_hidden": false
    }
   },
   "outputs": [
    {
     "data": {
      "text/html": [
       "<div>\n",
       "<style scoped>\n",
       "    .dataframe tbody tr th:only-of-type {\n",
       "        vertical-align: middle;\n",
       "    }\n",
       "\n",
       "    .dataframe tbody tr th {\n",
       "        vertical-align: top;\n",
       "    }\n",
       "\n",
       "    .dataframe thead th {\n",
       "        text-align: right;\n",
       "    }\n",
       "</style>\n",
       "<table border=\"1\" class=\"dataframe\">\n",
       "  <thead>\n",
       "    <tr style=\"text-align: right;\">\n",
       "      <th></th>\n",
       "      <th>0</th>\n",
       "      <th>1</th>\n",
       "      <th>2</th>\n",
       "      <th>3</th>\n",
       "    </tr>\n",
       "  </thead>\n",
       "  <tbody>\n",
       "    <tr>\n",
       "      <th>0</th>\n",
       "      <td>Consolidated positions: Issues &amp; To Do list</td>\n",
       "      <td>phillip.allen@enron.com</td>\n",
       "      <td>keith.holst@enron.com</td>\n",
       "      <td>---------------------- Forwarded by Phillip K ...</td>\n",
       "    </tr>\n",
       "    <tr>\n",
       "      <th>1</th>\n",
       "      <td>Consolidated positions: Issues &amp; To Do list</td>\n",
       "      <td>phillip.allen@enron.com</td>\n",
       "      <td>keith.holst@enron.com</td>\n",
       "      <td>---------------------- Forwarded by Phillip K ...</td>\n",
       "    </tr>\n",
       "    <tr>\n",
       "      <th>2</th>\n",
       "      <td></td>\n",
       "      <td>phillip.allen@enron.com</td>\n",
       "      <td>david.delainey@enron.com</td>\n",
       "      <td>Dave, Here are the name of the west desk membe...</td>\n",
       "    </tr>\n",
       "    <tr>\n",
       "      <th>3</th>\n",
       "      <td>Re: 2001 Margin Plan</td>\n",
       "      <td>phillip.allen@enron.com</td>\n",
       "      <td>paula.harris@enron.com</td>\n",
       "      <td>Paula, 35 million is fine Phillip</td>\n",
       "    </tr>\n",
       "    <tr>\n",
       "      <th>4</th>\n",
       "      <td>Var, Reporting and Resources Meeting</td>\n",
       "      <td>phillip.allen@enron.com</td>\n",
       "      <td>ina.rangel@enron.com</td>\n",
       "      <td>---------------------- Forwarded by Phillip K ...</td>\n",
       "    </tr>\n",
       "  </tbody>\n",
       "</table>\n",
       "</div>"
      ],
      "text/plain": [
       "                                             0                        1  \\\n",
       "0  Consolidated positions: Issues & To Do list  phillip.allen@enron.com   \n",
       "1  Consolidated positions: Issues & To Do list  phillip.allen@enron.com   \n",
       "2                                               phillip.allen@enron.com   \n",
       "3                         Re: 2001 Margin Plan  phillip.allen@enron.com   \n",
       "4         Var, Reporting and Resources Meeting  phillip.allen@enron.com   \n",
       "\n",
       "                          2                                                  3  \n",
       "0     keith.holst@enron.com  ---------------------- Forwarded by Phillip K ...  \n",
       "1     keith.holst@enron.com  ---------------------- Forwarded by Phillip K ...  \n",
       "2  david.delainey@enron.com  Dave, Here are the name of the west desk membe...  \n",
       "3    paula.harris@enron.com                  Paula, 35 million is fine Phillip  \n",
       "4      ina.rangel@enron.com  ---------------------- Forwarded by Phillip K ...  "
      ]
     },
     "execution_count": 17,
     "metadata": {},
     "output_type": "execute_result"
    }
   ],
   "source": []
  },
  {
   "cell_type": "code",
   "execution_count": null,
   "id": "3fb308d52c9316a3",
   "metadata": {
    "collapsed": false,
    "jupyter": {
     "outputs_hidden": false
    }
   },
   "outputs": [],
   "source": []
  }
 ],
 "metadata": {
  "kernelspec": {
   "display_name": "Python 3 (ipykernel)",
   "language": "python",
   "name": "python3"
  },
  "language_info": {
   "codemirror_mode": {
    "name": "ipython",
    "version": 3
   },
   "file_extension": ".py",
   "mimetype": "text/x-python",
   "name": "python",
   "nbconvert_exporter": "python",
   "pygments_lexer": "ipython3",
   "version": "3.10.11"
  }
 },
 "nbformat": 4,
 "nbformat_minor": 5
}
